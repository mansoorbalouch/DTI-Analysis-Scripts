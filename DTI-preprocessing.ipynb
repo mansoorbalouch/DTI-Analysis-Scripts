{
 "cells": [
  {
   "cell_type": "code",
   "execution_count": 71,
   "metadata": {},
   "outputs": [],
   "source": [
    "import os\n",
    "import numpy as np\n",
    "import nibabel as nib\n",
    "from dipy.io.image import load_nifti, save_nifti\n",
    "from dipy.io.gradients import read_bvals_bvecs\n",
    "from dipy.core.gradients import gradient_table\n",
    "from dipy.segment.mask import median_otsu\n",
    "from dipy.align.imaffine import MutualInformationMetric, AffineRegistration\n",
    "from dipy.align.transforms import RigidTransform3D\n",
    "from dipy.viz import regtools\n",
    "\n",
    "\n",
    "import matplotlib.pyplot as plt\n",
    "\n",
    "from nibabel.processing import resample_from_to\n",
    "from nilearn import plotting\n",
    "\n",
    "from dipy.align.imaffine import AffineRegistration\n",
    "from dipy.align.transforms import RigidTransform3D\n",
    "from dipy.align.metrics import SSDMetric\n",
    "from dipy.align.imaffine import AffineRegistration, MutualInformationMetric\n",
    "\n",
    "from dipy.align import motion_correction\n",
    "from dipy.align.reslice import reslice\n",
    "\n",
    "from dipy.align.transforms import (TranslationTransform3D,\n",
    "                                   RigidTransform3D,\n",
    "                                   AffineTransform3D)\n",
    "from dipy.align import affine_registration, register_dwi_to_template\n",
    "\n"
   ]
  },
  {
   "cell_type": "code",
   "execution_count": 66,
   "metadata": {},
   "outputs": [],
   "source": [
    "main_dir = \"/media/ist/Drive2/MANSOOR/Neuroimaging-Project/DTI-Analysis\"\n",
    "data_dir = f\"{main_dir}/Data/test/test-sub-01-pre\"\n",
    "save_prep_dir = f\"{data_dir}/prep-dti\"\n",
    "results_dir = f\"{main_dir}/results\"\n",
    "static_img_file = f\"{data_dir}/target.nii.gz\"\n",
    "\n",
    "filename = \"sub_01_pre\""
   ]
  },
  {
   "cell_type": "code",
   "execution_count": 41,
   "metadata": {},
   "outputs": [],
   "source": [
    "\n",
    "# load the DTI data\n",
    "img_file = f'{data_dir}/{filename}.nii.gz'\n",
    "bvals_file = f'{data_dir}/{filename}.bval'\n",
    "bvecs_file = f'{data_dir}/{filename}.bvec'\n",
    "\n",
    "data, affine = load_nifti(img_file)\n",
    "bvals, bvecs = read_bvals_bvecs(bvals_file, bvecs_file)\n",
    "gtab = gradient_table(bvals, bvecs)\n"
   ]
  },
  {
   "cell_type": "markdown",
   "metadata": {},
   "source": [
    "Skull stripping - brain segmentation"
   ]
  },
  {
   "cell_type": "code",
   "execution_count": 39,
   "metadata": {},
   "outputs": [],
   "source": [
    "\n",
    "# Step 1: Skull stripping using median otsu method\n",
    "# Assuming 'data' is the 4D DTI dataset and we want to use the first volume for skull stripping\n",
    "# Here '0' is the index of the b0 volume which is typically used for skull stripping\n",
    "data, mask = median_otsu(data, vol_idx=[0], median_radius=2, numpass=1)\n",
    "\n",
    "# Save skull-stripped data and mask\n",
    "ss_data_img = nib.Nifti1Image(data, affine)\n",
    "ss_mask_img = nib.Nifti1Image(mask.astype(np.uint8), affine)\n",
    "save_nifti(f'{save_prep_dir}/{filename}-skull_stripped.nii.gz', data, affine)\n",
    "save_nifti(f'{save_prep_dir}/{filename}-brain_mask.nii.gz', mask.astype(np.uint8), affine)\n",
    "\n"
   ]
  },
  {
   "cell_type": "markdown",
   "metadata": {},
   "source": [
    "Motion correction (across DTI volumes)"
   ]
  },
  {
   "cell_type": "code",
   "execution_count": 78,
   "metadata": {},
   "outputs": [],
   "source": [
    "##### testing the script for a few volumes  #####\n",
    "data_small = data[..., :3]\n",
    "bvals_small = bvals[:3]\n",
    "bvecs_small = bvecs[:3]\n",
    "gtab = gradient_table(bvals_small, bvecs_small)\n",
    "\n",
    "# data_corrected, reg_affines = motion_correction(data_small, gtab, affine)\n",
    "\n",
    "# Save the motion-corrected data\n",
    "# save_nifti(f'{save_prep_dir}/{filename}-motion_corrected.nii.gz', data_corrected.get_fdata(), data_corrected.affine)\n"
   ]
  },
  {
   "cell_type": "code",
   "execution_count": null,
   "metadata": {},
   "outputs": [],
   "source": [
    "# Apply motion correction\n",
    "gtab = gradient_table(bvals, bvecs)\n",
    "\n",
    "corrected_data, transformed_affines = motion_correction(data, gtab, affine)\n",
    "\n",
    "# Save the motion-corrected data\n",
    "save_nifti(f'{save_prep_dir}/{filename}-motion_corrected.nii.gz', corrected_data.get_fdata(), transformed_affines.affine)\n",
    "\n",
    "print(\"Motion correction complete. Corrected data and gradient vectors saved.\")\n"
   ]
  },
  {
   "cell_type": "markdown",
   "metadata": {},
   "source": [
    "Registration to a standard space (e.g., MNI template)"
   ]
  },
  {
   "cell_type": "code",
   "execution_count": 80,
   "metadata": {},
   "outputs": [
    {
     "name": "stdout",
     "output_type": "stream",
     "text": [
      "Optimizing level 3 [max iter: 10000]\n",
      "Optimizing level 2 [max iter: 1000]\n",
      "Optimizing level 1 [max iter: 100]\n",
      "Optimizing level 0 [max iter: 10]\n",
      "Optimizing level 3 [max iter: 10000]\n"
     ]
    },
    {
     "ename": "ValueError",
     "evalue": "'x0' must only have one dimension.",
     "output_type": "error",
     "traceback": [
      "\u001b[0;31m---------------------------------------------------------------------------\u001b[0m",
      "\u001b[0;31mValueError\u001b[0m                                Traceback (most recent call last)",
      "Cell \u001b[0;32mIn[80], line 20\u001b[0m\n\u001b[1;32m     18\u001b[0m \u001b[38;5;66;03m# Then a rigid body transform (rotation and translation)\u001b[39;00m\n\u001b[1;32m     19\u001b[0m transform \u001b[38;5;241m=\u001b[39m RigidTransform3D()\n\u001b[0;32m---> 20\u001b[0m rigid_affine \u001b[38;5;241m=\u001b[39m \u001b[43maffreg\u001b[49m\u001b[38;5;241;43m.\u001b[39;49m\u001b[43moptimize\u001b[49m\u001b[43m(\u001b[49m\u001b[43mstatic\u001b[49m\u001b[38;5;241;43m=\u001b[39;49m\u001b[43mstandard\u001b[49m\u001b[43m,\u001b[49m\u001b[43m \u001b[49m\u001b[43mmoving\u001b[49m\u001b[38;5;241;43m=\u001b[39;49m\u001b[43mdata\u001b[49m\u001b[43m[\u001b[49m\u001b[38;5;241;43m.\u001b[39;49m\u001b[38;5;241;43m.\u001b[39;49m\u001b[38;5;241;43m.\u001b[39;49m\u001b[43m,\u001b[49m\u001b[43m \u001b[49m\u001b[43mgtab\u001b[49m\u001b[38;5;241;43m.\u001b[39;49m\u001b[43mb0s_mask\u001b[49m\u001b[43m]\u001b[49m\u001b[38;5;241;43m.\u001b[39;49m\u001b[43mmean\u001b[49m\u001b[43m(\u001b[49m\u001b[43maxis\u001b[49m\u001b[38;5;241;43m=\u001b[39;49m\u001b[38;5;241;43m3\u001b[39;49m\u001b[43m)\u001b[49m\u001b[43m,\u001b[49m\n\u001b[1;32m     21\u001b[0m \u001b[43m                               \u001b[49m\u001b[43mtransform\u001b[49m\u001b[38;5;241;43m=\u001b[39;49m\u001b[43mtransform\u001b[49m\u001b[43m,\u001b[49m\u001b[43m \u001b[49m\u001b[43mparams0\u001b[49m\u001b[38;5;241;43m=\u001b[39;49m\u001b[43mstarting_affine\u001b[49m\u001b[38;5;241;43m.\u001b[39;49m\u001b[43maffine\u001b[49m\u001b[43m,\u001b[49m\n\u001b[1;32m     22\u001b[0m \u001b[43m                               \u001b[49m\u001b[43mstatic_grid2world\u001b[49m\u001b[38;5;241;43m=\u001b[39;49m\u001b[43mstandard_affine\u001b[49m\u001b[43m,\u001b[49m\n\u001b[1;32m     23\u001b[0m \u001b[43m                               \u001b[49m\u001b[43mmoving_grid2world\u001b[49m\u001b[38;5;241;43m=\u001b[39;49m\u001b[43maffine\u001b[49m\u001b[43m)\u001b[49m\n\u001b[1;32m     25\u001b[0m \u001b[38;5;66;03m# Finally, a full affine transform (rotation, translation, scaling, and shearing)\u001b[39;00m\n\u001b[1;32m     26\u001b[0m transform \u001b[38;5;241m=\u001b[39m AffineTransform3D()\n",
      "File \u001b[0;32m/media/ist/Drive2/DL-venv/lib/python3.12/site-packages/dipy/align/imaffine.py:1197\u001b[0m, in \u001b[0;36mAffineRegistration.optimize\u001b[0;34m(***failed resolving arguments***)\u001b[0m\n\u001b[1;32m   1194\u001b[0m \u001b[38;5;28;01melse\u001b[39;00m:\n\u001b[1;32m   1195\u001b[0m     \u001b[38;5;28mself\u001b[39m\u001b[38;5;241m.\u001b[39moptions[\u001b[38;5;124m'\u001b[39m\u001b[38;5;124mmaxiter\u001b[39m\u001b[38;5;124m'\u001b[39m] \u001b[38;5;241m=\u001b[39m max_iter\n\u001b[0;32m-> 1197\u001b[0m opt \u001b[38;5;241m=\u001b[39m \u001b[43mOptimizer\u001b[49m\u001b[43m(\u001b[49m\u001b[38;5;28;43mself\u001b[39;49m\u001b[38;5;241;43m.\u001b[39;49m\u001b[43mmetric\u001b[49m\u001b[38;5;241;43m.\u001b[39;49m\u001b[43mdistance_and_gradient\u001b[49m\u001b[43m,\u001b[49m\n\u001b[1;32m   1198\u001b[0m \u001b[43m                \u001b[49m\u001b[38;5;28;43mself\u001b[39;49m\u001b[38;5;241;43m.\u001b[39;49m\u001b[43mparams0\u001b[49m\u001b[43m,\u001b[49m\n\u001b[1;32m   1199\u001b[0m \u001b[43m                \u001b[49m\u001b[43mmethod\u001b[49m\u001b[38;5;241;43m=\u001b[39;49m\u001b[38;5;28;43mself\u001b[39;49m\u001b[38;5;241;43m.\u001b[39;49m\u001b[43mmethod\u001b[49m\u001b[43m,\u001b[49m\u001b[43m \u001b[49m\u001b[43mjac\u001b[49m\u001b[38;5;241;43m=\u001b[39;49m\u001b[38;5;28;43;01mTrue\u001b[39;49;00m\u001b[43m,\u001b[49m\n\u001b[1;32m   1200\u001b[0m \u001b[43m                \u001b[49m\u001b[43moptions\u001b[49m\u001b[38;5;241;43m=\u001b[39;49m\u001b[38;5;28;43mself\u001b[39;49m\u001b[38;5;241;43m.\u001b[39;49m\u001b[43moptions\u001b[49m\u001b[43m)\u001b[49m\n\u001b[1;32m   1201\u001b[0m params \u001b[38;5;241m=\u001b[39m opt\u001b[38;5;241m.\u001b[39mxopt\n\u001b[1;32m   1203\u001b[0m \u001b[38;5;66;03m# Update starting_affine matrix with optimal parameters\u001b[39;00m\n",
      "File \u001b[0;32m/media/ist/Drive2/DL-venv/lib/python3.12/site-packages/dipy/core/optimize.py:133\u001b[0m, in \u001b[0;36mOptimizer.__init__\u001b[0;34m(self, fun, x0, args, method, jac, hess, hessp, bounds, constraints, tol, callback, options, evolution)\u001b[0m\n\u001b[1;32m    127\u001b[0m     res \u001b[38;5;241m=\u001b[39m minimize(fun, x0, args, method, jac, hess, hessp, bounds,\n\u001b[1;32m    128\u001b[0m                    constraints, tol, callback\u001b[38;5;241m=\u001b[39mhistory_of_x,\n\u001b[1;32m    129\u001b[0m                    options\u001b[38;5;241m=\u001b[39moptions)\n\u001b[1;32m    131\u001b[0m \u001b[38;5;28;01melse\u001b[39;00m:\n\u001b[0;32m--> 133\u001b[0m     res \u001b[38;5;241m=\u001b[39m \u001b[43mminimize\u001b[49m\u001b[43m(\u001b[49m\u001b[43mfun\u001b[49m\u001b[43m,\u001b[49m\u001b[43m \u001b[49m\u001b[43mx0\u001b[49m\u001b[43m,\u001b[49m\u001b[43m \u001b[49m\u001b[43margs\u001b[49m\u001b[43m,\u001b[49m\u001b[43m \u001b[49m\u001b[43mmethod\u001b[49m\u001b[43m,\u001b[49m\u001b[43m \u001b[49m\u001b[43mjac\u001b[49m\u001b[43m,\u001b[49m\u001b[43m \u001b[49m\u001b[43mhess\u001b[49m\u001b[43m,\u001b[49m\u001b[43m \u001b[49m\u001b[43mhessp\u001b[49m\u001b[43m,\u001b[49m\u001b[43m \u001b[49m\u001b[43mbounds\u001b[49m\u001b[43m,\u001b[49m\n\u001b[1;32m    134\u001b[0m \u001b[43m                   \u001b[49m\u001b[43mconstraints\u001b[49m\u001b[43m,\u001b[49m\u001b[43m \u001b[49m\u001b[43mtol\u001b[49m\u001b[43m,\u001b[49m\u001b[43m \u001b[49m\u001b[43mcallback\u001b[49m\u001b[43m,\u001b[49m\u001b[43m \u001b[49m\u001b[43moptions\u001b[49m\u001b[43m)\u001b[49m\n\u001b[1;32m    136\u001b[0m \u001b[38;5;28mself\u001b[39m\u001b[38;5;241m.\u001b[39mres \u001b[38;5;241m=\u001b[39m res\n",
      "File \u001b[0;32m/media/ist/Drive2/DL-venv/lib/python3.12/site-packages/scipy/optimize/_minimize.py:535\u001b[0m, in \u001b[0;36mminimize\u001b[0;34m(fun, x0, args, method, jac, hess, hessp, bounds, constraints, tol, callback, options)\u001b[0m\n\u001b[1;32m    532\u001b[0m x0 \u001b[38;5;241m=\u001b[39m np\u001b[38;5;241m.\u001b[39matleast_1d(np\u001b[38;5;241m.\u001b[39masarray(x0))\n\u001b[1;32m    534\u001b[0m \u001b[38;5;28;01mif\u001b[39;00m x0\u001b[38;5;241m.\u001b[39mndim \u001b[38;5;241m!=\u001b[39m \u001b[38;5;241m1\u001b[39m:\n\u001b[0;32m--> 535\u001b[0m     \u001b[38;5;28;01mraise\u001b[39;00m \u001b[38;5;167;01mValueError\u001b[39;00m(\u001b[38;5;124m\"\u001b[39m\u001b[38;5;124m'\u001b[39m\u001b[38;5;124mx0\u001b[39m\u001b[38;5;124m'\u001b[39m\u001b[38;5;124m must only have one dimension.\u001b[39m\u001b[38;5;124m\"\u001b[39m)\n\u001b[1;32m    537\u001b[0m \u001b[38;5;28;01mif\u001b[39;00m x0\u001b[38;5;241m.\u001b[39mdtype\u001b[38;5;241m.\u001b[39mkind \u001b[38;5;129;01min\u001b[39;00m np\u001b[38;5;241m.\u001b[39mtypecodes[\u001b[38;5;124m\"\u001b[39m\u001b[38;5;124mAllInteger\u001b[39m\u001b[38;5;124m\"\u001b[39m]:\n\u001b[1;32m    538\u001b[0m     x0 \u001b[38;5;241m=\u001b[39m np\u001b[38;5;241m.\u001b[39masarray(x0, dtype\u001b[38;5;241m=\u001b[39m\u001b[38;5;28mfloat\u001b[39m)\n",
      "\u001b[0;31mValueError\u001b[0m: 'x0' must only have one dimension."
     ]
    }
   ],
   "source": [
    "# Registration to standard space using an affine transform\n",
    "standard, standard_affine = load_nifti(static_img_file)\n",
    "\n",
    "# Configure the registration framework\n",
    "affreg = AffineRegistration(metric=MutualInformationMetric(),\n",
    "                            level_iters=[10000, 1000, 100, 10],\n",
    "                            sigmas=[3.0, 1.0, 0.1, 0.0],\n",
    "                            factors=[4, 2, 1, 0.25])\n",
    "\n",
    "# Start with a translation transform\n",
    "transform = TranslationTransform3D()\n",
    "params0 = None\n",
    "starting_affine = affreg.optimize(static=standard, moving=data[..., gtab.b0s_mask].mean(axis=3),\n",
    "                                  transform=transform, params0=params0,\n",
    "                                  static_grid2world=standard_affine,\n",
    "                                  moving_grid2world=affine)\n",
    "\n",
    "# Then a rigid body transform (rotation and translation)\n",
    "transform = RigidTransform3D()\n",
    "rigid_affine = affreg.optimize(static=standard, moving=data[..., gtab.b0s_mask].mean(axis=3),\n",
    "                               transform=transform, params0=starting_affine.affine,\n",
    "                               static_grid2world=standard_affine,\n",
    "                               moving_grid2world=affine)\n",
    "\n",
    "# Finally, a full affine transform (rotation, translation, scaling, and shearing)\n",
    "transform = AffineTransform3D()\n",
    "affine_map = affreg.optimize(static=standard, moving=data[..., gtab.b0s_mask].mean(axis=3),\n",
    "                             transform=transform, params0=rigid_affine.affine,\n",
    "                             static_grid2world=standard_affine,\n",
    "                             moving_grid2world=affine)\n",
    "\n",
    "# Apply transformation to the whole DTI dataset\n",
    "registered_data = np.zeros_like(data)\n",
    "for i in range(data.shape[-1]):\n",
    "    registered_data[..., i] = affine_map.transform(data[..., i])\n",
    "\n",
    "# Save the registered image\n",
    "save_nifti(f'{save_prep_dir}/{filename}-registered_to_standard.nii.gz', registered_data, standard_affine)\n",
    "\n",
    "print(\"DTI preprocessing complete. Data is registered to standard space.\")\n",
    "print(\"DTI preprocessing complete.\")\n"
   ]
  }
 ],
 "metadata": {
  "kernelspec": {
   "display_name": "DL-venv",
   "language": "python",
   "name": "python3"
  },
  "language_info": {
   "codemirror_mode": {
    "name": "ipython",
    "version": 3
   },
   "file_extension": ".py",
   "mimetype": "text/x-python",
   "name": "python",
   "nbconvert_exporter": "python",
   "pygments_lexer": "ipython3",
   "version": "3.12.3"
  }
 },
 "nbformat": 4,
 "nbformat_minor": 2
}
