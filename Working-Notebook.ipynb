{
 "cells": [
  {
   "cell_type": "code",
   "execution_count": 26,
   "metadata": {},
   "outputs": [],
   "source": [
    "import os\n",
    "import nibabel as nib\n",
    "import pandas as pd\n",
    "import numpy as np\n",
    "import matplotlib.pyplot as plt\n",
    "\n",
    "from dipy.reconst.dti import TensorModel, fractional_anisotropy, mean_diffusivity, radial_diffusivity, axial_diffusivity\n",
    "from dipy.io.image import load_nifti_data\n",
    "from dipy.core.gradients import gradient_table"
   ]
  },
  {
   "cell_type": "code",
   "execution_count": 27,
   "metadata": {},
   "outputs": [],
   "source": [
    "data_dir = \"/media/ist/Drive2/MANSOOR/Neuroimaging-Project/DTI-Analysis/Data/test\""
   ]
  },
  {
   "cell_type": "code",
   "execution_count": 30,
   "metadata": {},
   "outputs": [
    {
     "name": "stdout",
     "output_type": "stream",
     "text": [
      "(128, 128, 60, 193) (193,) (3, 193) (91, 109, 91)\n"
     ]
    }
   ],
   "source": [
    "# set the file paths\n",
    "data_files = os.path.join(data_dir, 'sherbrooke_3shell')\n",
    "bvals_file = os.path.join(data_files, 'HARDI193.bval') \n",
    "bvecs_file = os.path.join(data_files, 'HARDI193.bvec')\n",
    "img_file = os.path.join(data_files, 'HARDI193.nii.gz')  \n",
    "atlas_file = os.path.join(data_dir, 'AAL.nii.gz')  \n",
    "\n",
    "# Load data\n",
    "img = load_nifti_data(img_file)\n",
    "bvals = np.loadtxt(bvals_file)\n",
    "bvecs = np.loadtxt(bvecs_file)\n",
    "atlas = load_nifti_data(atlas_file)\n",
    "print(img.shape, bvals.shape, bvecs.shape, atlas.shape)\n",
    "\n",
    "# Assuming gradient_table needs to be constructed if gtab_file is not directly usable\n",
    "\n",
    "# bvals, bvecs = np.loadtxt(gtab_file[:-5] + '.bvals'), np.loadtxt(gtab_file[:-5] + '.bvecs')  # Adjust filenames\n",
    "gtab = gradient_table(bvals, bvecs)"
   ]
  },
  {
   "cell_type": "code",
   "execution_count": 31,
   "metadata": {},
   "outputs": [],
   "source": [
    "tensor_model = TensorModel(gtab)\n",
    "tensor_fit = tensor_model.fit(img)\n",
    "\n",
    "FA = fractional_anisotropy(tensor_fit.evals)\n",
    "MD = mean_diffusivity(tensor_fit.evals)\n",
    "RD = radial_diffusivity(tensor_fit.evals)\n",
    "AD = axial_diffusivity(tensor_fit.evals)\n"
   ]
  },
  {
   "cell_type": "code",
   "execution_count": null,
   "metadata": {},
   "outputs": [],
   "source": [
    "labels = atlas  # Assuming atlas data is already loaded correctly\n",
    "unique_labels = np.unique(labels)[1:]  # Exclude 0, assuming it's background\n",
    "\n",
    "# Prepare DataFrame to hold features\n",
    "df = pd.DataFrame(columns=['ROI', 'FA_mean', 'MD_mean', 'RD_mean', 'AD_mean'])\n",
    "\n",
    "# Loop through each label and calculate mean DTI metrics\n",
    "for roi in unique_labels:\n",
    "    mask = labels == roi\n",
    "    fa_mean = np.mean(FA[mask])\n",
    "    md_mean = np.mean(MD[mask])\n",
    "    rd_mean = np.mean(RD[mask])\n",
    "    ad_mean = np.mean(AD[mask])\n",
    "    \n",
    "    # Append the results to the DataFrame\n",
    "    df = df.append({'ROI': roi, 'FA_mean': fa_mean, 'MD_mean': md_mean, 'RD_mean': rd_mean, 'AD_mean': ad_mean}, ignore_index=True)\n"
   ]
  },
  {
   "cell_type": "code",
   "execution_count": null,
   "metadata": {},
   "outputs": [],
   "source": [
    "df.to_csv('dti_metrics_by_roi.csv', index=False)\n",
    "\n",
    "plt.figure(figsize=(12, 10))\n",
    "plt.title('Mean FA by ROI')\n",
    "sorted_df = df.sort_values(by='FA_mean', ascending=False)\n",
    "plt.barh(sorted_df['ROI'][:20], sorted_df['FA_mean'][:20], color='blue')\n",
    "plt.xlabel('Fractional Anisotropy (FA)')\n",
    "plt.ylabel('ROI')\n",
    "plt.show()\n"
   ]
  }
 ],
 "metadata": {
  "kernelspec": {
   "display_name": "Python 3",
   "language": "python",
   "name": "python3"
  },
  "language_info": {
   "codemirror_mode": {
    "name": "ipython",
    "version": 3
   },
   "file_extension": ".py",
   "mimetype": "text/x-python",
   "name": "python",
   "nbconvert_exporter": "python",
   "pygments_lexer": "ipython3",
   "version": "3.12.3"
  }
 },
 "nbformat": 4,
 "nbformat_minor": 2
}
